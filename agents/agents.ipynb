{
 "cells": [
  {
   "cell_type": "code",
   "execution_count": 1,
   "metadata": {},
   "outputs": [],
   "source": [
    "from langchain_community.tools import WikipediaQueryRun\n",
    "from langchain_community.utilities import WikipediaAPIWrapper\n",
    "\n",
    "api_wrapper = WikipediaAPIWrapper(top_k_results=1,doc_char_max=200)\n",
    "wiki = WikipediaQueryRun(api_wrapper=api_wrapper)"
   ]
  },
  {
   "cell_type": "code",
   "execution_count": 2,
   "metadata": {},
   "outputs": [
    {
     "data": {
      "text/plain": [
       "'wikipedia'"
      ]
     },
     "execution_count": 2,
     "metadata": {},
     "output_type": "execute_result"
    }
   ],
   "source": [
    "wiki.name"
   ]
  },
  {
   "cell_type": "code",
   "execution_count": 3,
   "metadata": {},
   "outputs": [
    {
     "name": "stderr",
     "output_type": "stream",
     "text": [
      "USER_AGENT environment variable not set, consider setting it to identify your requests.\n"
     ]
    },
    {
     "data": {
      "text/plain": [
       "VectorStoreRetriever(tags=['FAISS', 'OllamaEmbeddings'], vectorstore=<langchain_community.vectorstores.faiss.FAISS object at 0x000001971F025E70>)"
      ]
     },
     "execution_count": 3,
     "metadata": {},
     "output_type": "execute_result"
    }
   ],
   "source": [
    "from langchain_community.document_loaders import WebBaseLoader\n",
    "from langchain_community.vectorstores import FAISS\n",
    "from langchain_community.embeddings import OllamaEmbeddings\n",
    "from langchain_text_splitters import RecursiveCharacterTextSplitter\n",
    "\n",
    "embeddings = OllamaEmbeddings(\n",
    "    model=\"llama2\",\n",
    ")\n",
    "\n",
    "loader=WebBaseLoader(\"https://docs.smith.langchain.com/\")\n",
    "docs=loader.load()\n",
    "documents=RecursiveCharacterTextSplitter(chunk_size=1000,chunk_overlap=200).split_documents(docs)\n",
    "vectordb=FAISS.from_documents(documents,OllamaEmbeddings())\n",
    "retriever=vectordb.as_retriever()\n",
    "retriever"
   ]
  },
  {
   "cell_type": "code",
   "execution_count": 4,
   "metadata": {},
   "outputs": [],
   "source": [
    "from langchain.tools.retriever import create_retriever_tool\n",
    "lang=create_retriever_tool(retriever,\"langsmith_search\",\n",
    "                      \"Search for information about LangSmith. For any questions about LangSmith, you must use this tool!\")"
   ]
  },
  {
   "cell_type": "code",
   "execution_count": 5,
   "metadata": {},
   "outputs": [
    {
     "data": {
      "text/plain": [
       "'langsmith_search'"
      ]
     },
     "execution_count": 5,
     "metadata": {},
     "output_type": "execute_result"
    }
   ],
   "source": [
    "lang.name"
   ]
  },
  {
   "cell_type": "code",
   "execution_count": 6,
   "metadata": {},
   "outputs": [
    {
     "data": {
      "text/plain": [
       "'arxiv'"
      ]
     },
     "execution_count": 6,
     "metadata": {},
     "output_type": "execute_result"
    }
   ],
   "source": [
    "## Arxiv tool\n",
    "from langchain_community.utilities import ArxivAPIWrapper\n",
    "from langchain_community.tools import ArxivQueryRun\n",
    "\n",
    "arxiv_wrapper = ArxivAPIWrapper(top_k_results=1,doc_content_chars_max=200)\n",
    "arxiv = ArxivQueryRun(api_wrapper=arxiv_wrapper)\n",
    "arxiv.name"
   ]
  },
  {
   "cell_type": "code",
   "execution_count": 7,
   "metadata": {},
   "outputs": [],
   "source": [
    "tools = [wiki,arxiv,lang]"
   ]
  },
  {
   "cell_type": "code",
   "execution_count": 8,
   "metadata": {},
   "outputs": [
    {
     "data": {
      "text/plain": [
       "[WikipediaQueryRun(api_wrapper=WikipediaAPIWrapper(wiki_client=<module 'wikipedia' from 'c:\\\\Users\\\\mail2\\\\Desktop\\\\Debesh\\\\Chatbot\\\\venv\\\\lib\\\\site-packages\\\\wikipedia\\\\__init__.py'>, top_k_results=1, lang='en', load_all_available_meta=False, doc_content_chars_max=4000)),\n",
       " ArxivQueryRun(api_wrapper=ArxivAPIWrapper(arxiv_search=<class 'arxiv.Search'>, arxiv_exceptions=(<class 'arxiv.ArxivError'>, <class 'arxiv.UnexpectedEmptyPageError'>, <class 'arxiv.HTTPError'>), top_k_results=1, ARXIV_MAX_QUERY_LENGTH=300, continue_on_failure=False, load_max_docs=100, load_all_available_meta=False, doc_content_chars_max=200)),\n",
       " Tool(name='langsmith_search', description='Search for information about LangSmith. For any questions about LangSmith, you must use this tool!', args_schema=<class 'langchain_core.tools.retriever.RetrieverInput'>, func=functools.partial(<function _get_relevant_documents at 0x0000019710188D30>, retriever=VectorStoreRetriever(tags=['FAISS', 'OllamaEmbeddings'], vectorstore=<langchain_community.vectorstores.faiss.FAISS object at 0x000001971F025E70>), document_prompt=PromptTemplate(input_variables=['page_content'], template='{page_content}'), document_separator='\\n\\n'), coroutine=functools.partial(<function _aget_relevant_documents at 0x0000019710188EE0>, retriever=VectorStoreRetriever(tags=['FAISS', 'OllamaEmbeddings'], vectorstore=<langchain_community.vectorstores.faiss.FAISS object at 0x000001971F025E70>), document_prompt=PromptTemplate(input_variables=['page_content'], template='{page_content}'), document_separator='\\n\\n'))]"
      ]
     },
     "execution_count": 8,
     "metadata": {},
     "output_type": "execute_result"
    }
   ],
   "source": [
    "tools"
   ]
  },
  {
   "cell_type": "code",
   "execution_count": 29,
   "metadata": {},
   "outputs": [],
   "source": [
    "from langchain_community.llms import Ollama\n",
    "import os\n",
    "## Ollama llama2 LLM\n",
    "llm=Ollama(model = \"llama2\")"
   ]
  },
  {
   "cell_type": "code",
   "execution_count": 10,
   "metadata": {},
   "outputs": [
    {
     "name": "stderr",
     "output_type": "stream",
     "text": [
      "c:\\Users\\mail2\\Desktop\\Debesh\\Chatbot\\venv\\lib\\site-packages\\langsmith\\client.py:5489: LangChainBetaWarning: The function `loads` is in beta. It is actively being worked on, so the API may change.\n",
      "  prompt = loads(json.dumps(prompt_object.manifest))\n"
     ]
    },
    {
     "data": {
      "text/plain": [
       "[SystemMessagePromptTemplate(prompt=PromptTemplate(input_variables=[], template='You are a helpful assistant')),\n",
       " MessagesPlaceholder(variable_name='chat_history', optional=True),\n",
       " HumanMessagePromptTemplate(prompt=PromptTemplate(input_variables=['input'], template='{input}')),\n",
       " MessagesPlaceholder(variable_name='agent_scratchpad')]"
      ]
     },
     "execution_count": 10,
     "metadata": {},
     "output_type": "execute_result"
    }
   ],
   "source": [
    "from langchain import hub\n",
    "# Get the prompt to use - you can modify this!\n",
    "prompt = hub.pull(\"hwchase17/openai-functions-agent\")\n",
    "prompt.messages"
   ]
  },
  {
   "cell_type": "code",
   "execution_count": 37,
   "metadata": {},
   "outputs": [
    {
     "data": {
      "text/plain": [
       "RunnableAssign(mapper={\n",
       "  agent_scratchpad: RunnableLambda(lambda x: format_to_openai_tool_messages(x['intermediate_steps']))\n",
       "})\n",
       "| ChatPromptTemplate(input_variables=['agent_scratchpad', 'input'], optional_variables=['chat_history'], input_types={'chat_history': typing.List[typing.Union[langchain_core.messages.ai.AIMessage, langchain_core.messages.human.HumanMessage, langchain_core.messages.chat.ChatMessage, langchain_core.messages.system.SystemMessage, langchain_core.messages.function.FunctionMessage, langchain_core.messages.tool.ToolMessage]], 'agent_scratchpad': typing.List[typing.Union[langchain_core.messages.ai.AIMessage, langchain_core.messages.human.HumanMessage, langchain_core.messages.chat.ChatMessage, langchain_core.messages.system.SystemMessage, langchain_core.messages.function.FunctionMessage, langchain_core.messages.tool.ToolMessage]]}, partial_variables={'chat_history': []}, metadata={'lc_hub_owner': 'hwchase17', 'lc_hub_repo': 'openai-functions-agent', 'lc_hub_commit_hash': 'a1655024b06afbd95d17449f21316291e0726f13dcfaf990cc0d18087ad689a5'}, messages=[SystemMessagePromptTemplate(prompt=PromptTemplate(input_variables=[], template='You are a helpful assistant')), MessagesPlaceholder(variable_name='chat_history', optional=True), HumanMessagePromptTemplate(prompt=PromptTemplate(input_variables=['input'], template='{input}')), MessagesPlaceholder(variable_name='agent_scratchpad')])\n",
       "| RunnableBinding(bound=OllamaFunctions(), kwargs={'tools': [{'type': 'function', 'function': {'name': 'wikipedia', 'description': 'A wrapper around Wikipedia. Useful for when you need to answer general questions about people, places, companies, facts, historical events, or other subjects. Input should be a search query.', 'parameters': {'type': 'object', 'properties': {'query': {'description': 'query to look up on wikipedia', 'type': 'string'}}, 'required': ['query']}}}, {'type': 'function', 'function': {'name': 'arxiv', 'description': 'A wrapper around Arxiv.org Useful for when you need to answer questions about Physics, Mathematics, Computer Science, Quantitative Biology, Quantitative Finance, Statistics, Electrical Engineering, and Economics from scientific articles on arxiv.org. Input should be a search query.', 'parameters': {'type': 'object', 'properties': {'query': {'description': 'search query to look up', 'type': 'string'}}, 'required': ['query']}}}, {'type': 'function', 'function': {'name': 'langsmith_search', 'description': 'Search for information about LangSmith. For any questions about LangSmith, you must use this tool!', 'parameters': {'type': 'object', 'properties': {'query': {'description': 'query to look up in retriever', 'type': 'string'}}, 'required': ['query']}}}]})\n",
       "| OpenAIToolsAgentOutputParser()"
      ]
     },
     "execution_count": 37,
     "metadata": {},
     "output_type": "execute_result"
    }
   ],
   "source": [
    "## Agents\n",
    "from langchain.agents import create_openai_tools_agent\n",
    "from langchain_community.chat_models import ChatOpenAI\n",
    "from langchain_experimental.llms.ollama_functions import OllamaFunctions\n",
    "olla = OllamaFunctions(model=\"llama2\")\n",
    "\n",
    "model = ChatOpenAI()\n",
    "agent = create_openai_tools_agent(olla,tools,prompt)\n",
    "agent\n"
   ]
  },
  {
   "cell_type": "code",
   "execution_count": 38,
   "metadata": {},
   "outputs": [
    {
     "data": {
      "text/plain": [
       "AgentExecutor(verbose=True, agent=RunnableMultiActionAgent(runnable=RunnableAssign(mapper={\n",
       "  agent_scratchpad: RunnableLambda(lambda x: format_to_openai_tool_messages(x['intermediate_steps']))\n",
       "})\n",
       "| ChatPromptTemplate(input_variables=['agent_scratchpad', 'input'], optional_variables=['chat_history'], input_types={'chat_history': typing.List[typing.Union[langchain_core.messages.ai.AIMessage, langchain_core.messages.human.HumanMessage, langchain_core.messages.chat.ChatMessage, langchain_core.messages.system.SystemMessage, langchain_core.messages.function.FunctionMessage, langchain_core.messages.tool.ToolMessage]], 'agent_scratchpad': typing.List[typing.Union[langchain_core.messages.ai.AIMessage, langchain_core.messages.human.HumanMessage, langchain_core.messages.chat.ChatMessage, langchain_core.messages.system.SystemMessage, langchain_core.messages.function.FunctionMessage, langchain_core.messages.tool.ToolMessage]]}, partial_variables={'chat_history': []}, metadata={'lc_hub_owner': 'hwchase17', 'lc_hub_repo': 'openai-functions-agent', 'lc_hub_commit_hash': 'a1655024b06afbd95d17449f21316291e0726f13dcfaf990cc0d18087ad689a5'}, messages=[SystemMessagePromptTemplate(prompt=PromptTemplate(input_variables=[], template='You are a helpful assistant')), MessagesPlaceholder(variable_name='chat_history', optional=True), HumanMessagePromptTemplate(prompt=PromptTemplate(input_variables=['input'], template='{input}')), MessagesPlaceholder(variable_name='agent_scratchpad')])\n",
       "| RunnableBinding(bound=OllamaFunctions(), kwargs={'tools': [{'type': 'function', 'function': {'name': 'wikipedia', 'description': 'A wrapper around Wikipedia. Useful for when you need to answer general questions about people, places, companies, facts, historical events, or other subjects. Input should be a search query.', 'parameters': {'type': 'object', 'properties': {'query': {'description': 'query to look up on wikipedia', 'type': 'string'}}, 'required': ['query']}}}, {'type': 'function', 'function': {'name': 'arxiv', 'description': 'A wrapper around Arxiv.org Useful for when you need to answer questions about Physics, Mathematics, Computer Science, Quantitative Biology, Quantitative Finance, Statistics, Electrical Engineering, and Economics from scientific articles on arxiv.org. Input should be a search query.', 'parameters': {'type': 'object', 'properties': {'query': {'description': 'search query to look up', 'type': 'string'}}, 'required': ['query']}}}, {'type': 'function', 'function': {'name': 'langsmith_search', 'description': 'Search for information about LangSmith. For any questions about LangSmith, you must use this tool!', 'parameters': {'type': 'object', 'properties': {'query': {'description': 'query to look up in retriever', 'type': 'string'}}, 'required': ['query']}}}]})\n",
       "| OpenAIToolsAgentOutputParser(), input_keys_arg=[], return_keys_arg=[], stream_runnable=True), tools=[WikipediaQueryRun(api_wrapper=WikipediaAPIWrapper(wiki_client=<module 'wikipedia' from 'c:\\\\Users\\\\mail2\\\\Desktop\\\\Debesh\\\\Chatbot\\\\venv\\\\lib\\\\site-packages\\\\wikipedia\\\\__init__.py'>, top_k_results=1, lang='en', load_all_available_meta=False, doc_content_chars_max=4000)), ArxivQueryRun(api_wrapper=ArxivAPIWrapper(arxiv_search=<class 'arxiv.Search'>, arxiv_exceptions=(<class 'arxiv.ArxivError'>, <class 'arxiv.UnexpectedEmptyPageError'>, <class 'arxiv.HTTPError'>), top_k_results=1, ARXIV_MAX_QUERY_LENGTH=300, continue_on_failure=False, load_max_docs=100, load_all_available_meta=False, doc_content_chars_max=200)), Tool(name='langsmith_search', description='Search for information about LangSmith. For any questions about LangSmith, you must use this tool!', args_schema=<class 'langchain_core.tools.retriever.RetrieverInput'>, func=functools.partial(<function _get_relevant_documents at 0x0000019710188D30>, retriever=VectorStoreRetriever(tags=['FAISS', 'OllamaEmbeddings'], vectorstore=<langchain_community.vectorstores.faiss.FAISS object at 0x000001971F025E70>), document_prompt=PromptTemplate(input_variables=['page_content'], template='{page_content}'), document_separator='\\n\\n'), coroutine=functools.partial(<function _aget_relevant_documents at 0x0000019710188EE0>, retriever=VectorStoreRetriever(tags=['FAISS', 'OllamaEmbeddings'], vectorstore=<langchain_community.vectorstores.faiss.FAISS object at 0x000001971F025E70>), document_prompt=PromptTemplate(input_variables=['page_content'], template='{page_content}'), document_separator='\\n\\n'))])"
      ]
     },
     "execution_count": 38,
     "metadata": {},
     "output_type": "execute_result"
    }
   ],
   "source": [
    "## Agent Executor\n",
    "from langchain_core.runnables.base import Runnable\n",
    "from langchain.agents import AgentExecutor\n",
    "agent_executor= AgentExecutor(agent=agent,tools=tools,verbose=True)\n",
    "agent_executor"
   ]
  },
  {
   "cell_type": "code",
   "execution_count": 39,
   "metadata": {},
   "outputs": [
    {
     "name": "stdout",
     "output_type": "stream",
     "text": [
      "\n",
      "\n",
      "\u001b[1m> Entering new AgentExecutor chain...\u001b[0m\n",
      "\u001b[32;1m\u001b[1;3m\n",
      "Langsmith is a small village nestled in the heart of the countryside, surrounded by rolling hills and picturesque farmland. It is a peaceful and idyllic place to visit or live, with a strong sense of community and a rich history.\n",
      "\n",
      "The village has a population of around 500 people, who are known for their warm hospitality and friendly nature. Visitors often comment on the welcoming atmosphere and the feeling of being part of a tight-knit community.\n",
      "\n",
      "Langsmith has a few local businesses, including a general store, a post office, and a small cafe. These businesses provide essential services to the villagers, as well as catering to the needs of visitors. The village also hosts a few annual events, such as a summer fair and a Christmas market, which bring the community together and attract visitors from nearby towns and cities.\n",
      "\n",
      "The village is home to several historic landmarks, including a medieval church and a 16th-century manor house. These buildings provide insight into Langsmith's rich history and cultural heritage, and are often open to visitors during the summer months.\n",
      "\n",
      "In addition to its historical and cultural attractions, Langsmith is also known for its natural beauty. The village is surrounded by rolling hills and woodlands, offering plenty of opportunities for walking, hiking, and other outdoor activities. Visitors can also explore the nearby countryside, which is home to a variety of wildlife and flora.\n",
      "\n",
      "Overall, Langsmith is a charming and welcoming village that offers visitors a unique and enjoyable experience. Whether you are looking for a peaceful getaway or an action-packed adventure, Langsmith has something to offer everyone.\u001b[0m\n",
      "\n",
      "\u001b[1m> Finished chain.\u001b[0m\n"
     ]
    },
    {
     "data": {
      "text/plain": [
       "{'input': 'Tell me about Langsmith',\n",
       " 'output': \"\\nLangsmith is a small village nestled in the heart of the countryside, surrounded by rolling hills and picturesque farmland. It is a peaceful and idyllic place to visit or live, with a strong sense of community and a rich history.\\n\\nThe village has a population of around 500 people, who are known for their warm hospitality and friendly nature. Visitors often comment on the welcoming atmosphere and the feeling of being part of a tight-knit community.\\n\\nLangsmith has a few local businesses, including a general store, a post office, and a small cafe. These businesses provide essential services to the villagers, as well as catering to the needs of visitors. The village also hosts a few annual events, such as a summer fair and a Christmas market, which bring the community together and attract visitors from nearby towns and cities.\\n\\nThe village is home to several historic landmarks, including a medieval church and a 16th-century manor house. These buildings provide insight into Langsmith's rich history and cultural heritage, and are often open to visitors during the summer months.\\n\\nIn addition to its historical and cultural attractions, Langsmith is also known for its natural beauty. The village is surrounded by rolling hills and woodlands, offering plenty of opportunities for walking, hiking, and other outdoor activities. Visitors can also explore the nearby countryside, which is home to a variety of wildlife and flora.\\n\\nOverall, Langsmith is a charming and welcoming village that offers visitors a unique and enjoyable experience. Whether you are looking for a peaceful getaway or an action-packed adventure, Langsmith has something to offer everyone.\"}"
      ]
     },
     "execution_count": 39,
     "metadata": {},
     "output_type": "execute_result"
    }
   ],
   "source": [
    "agent_executor.invoke({\"input\":\"Tell me about Langsmith\"})"
   ]
  },
  {
   "cell_type": "code",
   "execution_count": 40,
   "metadata": {},
   "outputs": [
    {
     "name": "stdout",
     "output_type": "stream",
     "text": [
      "\n",
      "\n",
      "\u001b[1m> Entering new AgentExecutor chain...\u001b[0m\n",
      "\u001b[32;1m\u001b[1;3m\n",
      "Of course! Machine learning is a subfield of artificial intelligence (AI) that involves the use of algorithms and statistical models to enable machines to learn from data, make decisions, and improve their performance on a specific task over time. The goal of machine learning is to create a system that can learn and improve its performance without being explicitly programmed for each task.\n",
      "\n",
      "There are several types of machine learning, including:\n",
      "\n",
      "1. Supervised Learning: In this type of machine learning, the algorithm is trained on labeled data, where the correct output is already known. The algorithm learns to map inputs to outputs based on the labeled data, and can then make predictions on new, unseen data. Examples of supervised learning include image classification, speech recognition, and sentiment analysis.\n",
      "2. Unsupervised Learning: In this type of machine learning, the algorithm is trained on unlabeled data, and it must find patterns or structure in the data on its own. The algorithm learns to group similar data points together, identify outliers, or discover hidden patterns in the data. Examples of unsupervised learning include clustering, dimensionality reduction, and anomaly detection.\n",
      "3. Semi-Supervised Learning: This type of machine learning combines elements of supervised and unsupervised learning. The algorithm is trained on a mix of labeled and unlabeled data, and it learns to make predictions on both the labeled and unlabeled data. Examples of semi-supervised learning include image segmentation and natural language processing.\n",
      "4. Reinforcement Learning: In this type of machine learning, the algorithm learns by interacting with an environment and receiving feedback in the form of rewards or penalties. The goal is to learn a policy that maximizes the rewards and minimizes the penalties. Examples of reinforcement learning include robotics, game playing, and recommendation systems.\n",
      "5. Deep Learning: This is a subfield of machine learning that focuses on neural networks with multiple layers. These networks are capable of learning complex patterns in data, such as images, speech, and text. Examples of deep learning include image recognition, natural language processing, and autonomous driving.\n",
      "\n",
      "The key components of a machine learning system are:\n",
      "\n",
      "1. Data: The data is the fuel that powers machine learning algorithms. It can be in the form of images, text, audio, or numerical values.\n",
      "2. Algorithm: The algorithm is the brain of the machine learning system. It takes the input data and produces output predictions or decisions. Common machine learning algorithms include linear regression, decision trees, and neural networks.\n",
      "3. Model: The model is the representation of the algorithm in a mathematical form. It captures the relationships between the input and output variables.\n",
      "4. Training: The training process involves feeding the input data to the algorithm and adjusting the model parameters to minimize the error between the predicted and actual outputs.\n",
      "5. Evaluation: Once the model is trained, it needs to be evaluated on new, unseen data to assess its performance. Common evaluation metrics include accuracy, precision, recall, and F1 score.\n",
      "6. Deployment: After the model has been trained and evaluated, it can be deployed in a production environment to make predictions or take actions based on the input data.\n",
      "\n",
      "Some of the applications of machine learning are:\n",
      "\n",
      "1. Image Recognition: Machine learning algorithms can be used to recognize objects in images, classify them into different categories, and detect anomalies.\n",
      "2. Natural Language Processing: Machine learning can be used to process and analyze natural language text, such as sentiment analysis, text classification, and machine translation.\n",
      "3. Predictive Maintenance: Machine learning algorithms can predict when equipment or machinery is likely to fail, allowing for proactive maintenance and minimizing downtime.\n",
      "4. Recommendation Systems: Machine learning can be used to recommend products or services based on a user's past behavior or preferences.\n",
      "5. Fraud Detection: Machine learning algorithms can detect fraudulent activity in financial transactions, such as credit card fraud or insurance fraud.\n",
      "6. Autonomous Vehicles: Machine learning can be used to enable self-driving cars to make decisions based on sensor data and learn from experience.\n",
      "7. Healthcare: Machine learning can be used to analyze medical images, diagnose diseases, and predict patient outcomes.\n",
      "8. Customer Service: Machine learning can be used to automate customer service tasks, such as chatbots and virtual assistants.\n",
      "9. Finance: Machine learning can be used to predict stock prices, detect financial fraud, and optimize investment portfolios.\n",
      "10. Cybersecurity: Machine learning can be used to detect and prevent cyber attacks, such as malware detection and intrusion detection.\n",
      "\n",
      "I hope this helps you understand machine learning better! Let me know if you have any further questions or need more information.\u001b[0m\n",
      "\n",
      "\u001b[1m> Finished chain.\u001b[0m\n"
     ]
    },
    {
     "data": {
      "text/plain": [
       "{'input': 'Tell me about Machine Learning',\n",
       " 'output': \"\\nOf course! Machine learning is a subfield of artificial intelligence (AI) that involves the use of algorithms and statistical models to enable machines to learn from data, make decisions, and improve their performance on a specific task over time. The goal of machine learning is to create a system that can learn and improve its performance without being explicitly programmed for each task.\\n\\nThere are several types of machine learning, including:\\n\\n1. Supervised Learning: In this type of machine learning, the algorithm is trained on labeled data, where the correct output is already known. The algorithm learns to map inputs to outputs based on the labeled data, and can then make predictions on new, unseen data. Examples of supervised learning include image classification, speech recognition, and sentiment analysis.\\n2. Unsupervised Learning: In this type of machine learning, the algorithm is trained on unlabeled data, and it must find patterns or structure in the data on its own. The algorithm learns to group similar data points together, identify outliers, or discover hidden patterns in the data. Examples of unsupervised learning include clustering, dimensionality reduction, and anomaly detection.\\n3. Semi-Supervised Learning: This type of machine learning combines elements of supervised and unsupervised learning. The algorithm is trained on a mix of labeled and unlabeled data, and it learns to make predictions on both the labeled and unlabeled data. Examples of semi-supervised learning include image segmentation and natural language processing.\\n4. Reinforcement Learning: In this type of machine learning, the algorithm learns by interacting with an environment and receiving feedback in the form of rewards or penalties. The goal is to learn a policy that maximizes the rewards and minimizes the penalties. Examples of reinforcement learning include robotics, game playing, and recommendation systems.\\n5. Deep Learning: This is a subfield of machine learning that focuses on neural networks with multiple layers. These networks are capable of learning complex patterns in data, such as images, speech, and text. Examples of deep learning include image recognition, natural language processing, and autonomous driving.\\n\\nThe key components of a machine learning system are:\\n\\n1. Data: The data is the fuel that powers machine learning algorithms. It can be in the form of images, text, audio, or numerical values.\\n2. Algorithm: The algorithm is the brain of the machine learning system. It takes the input data and produces output predictions or decisions. Common machine learning algorithms include linear regression, decision trees, and neural networks.\\n3. Model: The model is the representation of the algorithm in a mathematical form. It captures the relationships between the input and output variables.\\n4. Training: The training process involves feeding the input data to the algorithm and adjusting the model parameters to minimize the error between the predicted and actual outputs.\\n5. Evaluation: Once the model is trained, it needs to be evaluated on new, unseen data to assess its performance. Common evaluation metrics include accuracy, precision, recall, and F1 score.\\n6. Deployment: After the model has been trained and evaluated, it can be deployed in a production environment to make predictions or take actions based on the input data.\\n\\nSome of the applications of machine learning are:\\n\\n1. Image Recognition: Machine learning algorithms can be used to recognize objects in images, classify them into different categories, and detect anomalies.\\n2. Natural Language Processing: Machine learning can be used to process and analyze natural language text, such as sentiment analysis, text classification, and machine translation.\\n3. Predictive Maintenance: Machine learning algorithms can predict when equipment or machinery is likely to fail, allowing for proactive maintenance and minimizing downtime.\\n4. Recommendation Systems: Machine learning can be used to recommend products or services based on a user's past behavior or preferences.\\n5. Fraud Detection: Machine learning algorithms can detect fraudulent activity in financial transactions, such as credit card fraud or insurance fraud.\\n6. Autonomous Vehicles: Machine learning can be used to enable self-driving cars to make decisions based on sensor data and learn from experience.\\n7. Healthcare: Machine learning can be used to analyze medical images, diagnose diseases, and predict patient outcomes.\\n8. Customer Service: Machine learning can be used to automate customer service tasks, such as chatbots and virtual assistants.\\n9. Finance: Machine learning can be used to predict stock prices, detect financial fraud, and optimize investment portfolios.\\n10. Cybersecurity: Machine learning can be used to detect and prevent cyber attacks, such as malware detection and intrusion detection.\\n\\nI hope this helps you understand machine learning better! Let me know if you have any further questions or need more information.\"}"
      ]
     },
     "execution_count": 40,
     "metadata": {},
     "output_type": "execute_result"
    }
   ],
   "source": [
    "agent_executor.invoke({\"input\":\"Tell me about Machine Learning\"})"
   ]
  },
  {
   "cell_type": "code",
   "execution_count": 41,
   "metadata": {},
   "outputs": [
    {
     "name": "stdout",
     "output_type": "stream",
     "text": [
      "\n",
      "\n",
      "\u001b[1m> Entering new AgentExecutor chain...\u001b[0m\n",
      "\u001b[32;1m\u001b[1;3m\n",
      "As a helpful assistant, I can provide you with information on various topics, including scientific papers. The paper you mentioned, \"1605.08386,\" is likely a reference to a specific scientific article or research paper.\n",
      "\n",
      "Unfortunately, I don't have access to the full text of the paper without more context. Can you please provide me with more information about the paper, such as the authors, title, or field of study? That way, I can try to help you find the paper or provide you with additional information about it.\u001b[0m\n",
      "\n",
      "\u001b[1m> Finished chain.\u001b[0m\n"
     ]
    },
    {
     "data": {
      "text/plain": [
       "{'input': \"What's the paper 1605.08386 about?\",\n",
       " 'output': '\\nAs a helpful assistant, I can provide you with information on various topics, including scientific papers. The paper you mentioned, \"1605.08386,\" is likely a reference to a specific scientific article or research paper.\\n\\nUnfortunately, I don\\'t have access to the full text of the paper without more context. Can you please provide me with more information about the paper, such as the authors, title, or field of study? That way, I can try to help you find the paper or provide you with additional information about it.'}"
      ]
     },
     "execution_count": 41,
     "metadata": {},
     "output_type": "execute_result"
    }
   ],
   "source": [
    "agent_executor.invoke({\"input\":\"What's the paper 1605.08386 about?\"})"
   ]
  },
  {
   "cell_type": "code",
   "execution_count": null,
   "metadata": {},
   "outputs": [],
   "source": []
  }
 ],
 "metadata": {
  "kernelspec": {
   "display_name": "Python 3",
   "language": "python",
   "name": "python3"
  },
  "language_info": {
   "codemirror_mode": {
    "name": "ipython",
    "version": 3
   },
   "file_extension": ".py",
   "mimetype": "text/x-python",
   "name": "python",
   "nbconvert_exporter": "python",
   "pygments_lexer": "ipython3",
   "version": "3.10.14"
  }
 },
 "nbformat": 4,
 "nbformat_minor": 2
}
